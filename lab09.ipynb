{
  "nbformat": 4,
  "nbformat_minor": 0,
  "metadata": {
    "colab": {
      "provenance": []
    },
    "kernelspec": {
      "name": "python3",
      "display_name": "Python 3"
    },
    "language_info": {
      "name": "python"
    }
  },
  "cells": [
    {
      "cell_type": "code",
      "execution_count": 30,
      "metadata": {
        "id": "h0Jr7Clr3zqS"
      },
      "outputs": [],
      "source": [
        "!pip install --quiet --upgrade langchain-text-splitters langchain-community langgraph langchain-openai langchain-pinecone beautifulsoup4\n"
      ]
    },
    {
      "cell_type": "code",
      "source": [
        "import getpass\n",
        "import os\n",
        "\n",
        "os.environ[\"LANGSMITH_TRACING\"] = \"true\"\n",
        "os.environ[\"LANGSMITH_API_KEY\"] = getpass.getpass(\"Introduce tu clave de API de LangSmith:\")\n",
        "os.environ[\"OPENAI_API_KEY\"] = getpass.getpass(\"Introduce tu clave de API de OpenAI:\")\n"
      ],
      "metadata": {
        "colab": {
          "base_uri": "https://localhost:8080/"
        },
        "id": "bkM0AFZO8B1G",
        "outputId": "b49b536d-cb6b-42e3-ffaf-0f4081737810"
      },
      "execution_count": 31,
      "outputs": [
        {
          "name": "stdout",
          "output_type": "stream",
          "text": [
            "Introduce tu clave de API de LangSmith:··········\n",
            "Introduce tu clave de API de OpenAI:··········\n"
          ]
        }
      ]
    },
    {
      "cell_type": "code",
      "source": [
        "from langchain.chat_models import init_chat_model\n",
        "from langchain_openai import OpenAIEmbeddings\n",
        "\n",
        "llm = init_chat_model(\"gpt-4o-mini\", model_provider=\"openai\")\n",
        "embeddings = OpenAIEmbeddings(model=\"text-embedding-3-large\")\n"
      ],
      "metadata": {
        "id": "kUS6-20G8DZ-"
      },
      "execution_count": 32,
      "outputs": []
    },
    {
      "cell_type": "code",
      "source": [
        "from langchain_pinecone import PineconeVectorStore\n",
        "from pinecone import Pinecone, ServerlessSpec\n",
        "\n",
        "api_key = getpass.getpass(\"Introduce tu clave de API de Pinecone:\")\n",
        "pc = Pinecone(api_key=api_key)\n",
        "\n",
        "index_name = \"bmw-m235i-index\"\n",
        "\n",
        "index = pc.Index(index_name)\n",
        "vector_store = PineconeVectorStore(embedding=embeddings, index=index)\n"
      ],
      "metadata": {
        "colab": {
          "base_uri": "https://localhost:8080/"
        },
        "id": "I5BSxtNj8E63",
        "outputId": "a26288d3-a9db-4cd9-fb3e-ecf048764292"
      },
      "execution_count": 33,
      "outputs": [
        {
          "name": "stdout",
          "output_type": "stream",
          "text": [
            "Introduce tu clave de API de Pinecone:··········\n"
          ]
        }
      ]
    },
    {
      "cell_type": "code",
      "source": [
        "from langchain_community.document_loaders import WebBaseLoader\n",
        "import bs4\n",
        "\n",
        "loader = WebBaseLoader(\n",
        "    web_paths=[\"https://extremamotor.es/prueba-bmw-m235i-coupe-326-cv-explosivos/\"],\n",
        "    bs_kwargs=dict(\n",
        "        parse_only=bs4.SoupStrainer(name=[\"p\", \"div\", \"span\", \"h1\", \"h2\", \"h3\"])\n",
        "    ),\n",
        ")\n",
        "docs = loader.load()\n"
      ],
      "metadata": {
        "id": "uwElyGj48HEu"
      },
      "execution_count": 43,
      "outputs": []
    },
    {
      "cell_type": "code",
      "source": [
        "print(f\"🔹 Fragmentos generados: {len(all_splits)}\")\n"
      ],
      "metadata": {
        "colab": {
          "base_uri": "https://localhost:8080/"
        },
        "id": "sA5yLmdL82jX",
        "outputId": "4d7ef64d-979c-49a3-df4e-a8ef6dfcdb64"
      },
      "execution_count": 44,
      "outputs": [
        {
          "output_type": "stream",
          "name": "stdout",
          "text": [
            "🔹 Fragmentos generados: 8\n"
          ]
        }
      ]
    },
    {
      "cell_type": "code",
      "source": [
        "_ = vector_store.add_documents(documents=all_splits)\n"
      ],
      "metadata": {
        "id": "n1AD9kw38IYe"
      },
      "execution_count": 36,
      "outputs": []
    },
    {
      "cell_type": "code",
      "source": [
        "from langchain import hub\n",
        "\n",
        "prompt = hub.pull(\"rlm/rag-prompt\")\n"
      ],
      "metadata": {
        "id": "lnNZ7lUO8KG-"
      },
      "execution_count": 37,
      "outputs": []
    },
    {
      "cell_type": "code",
      "source": [
        "from langchain_core.documents import Document\n",
        "from typing import List, TypedDict\n",
        "\n",
        "class State(TypedDict):\n",
        "    question: str\n",
        "    context: List[Document]\n",
        "    answer: str\n",
        "\n",
        "def retrieve(state: State):\n",
        "    retrieved_docs = vector_store.similarity_search(state[\"question\"])\n",
        "    return {\"context\": retrieved_docs}\n",
        "\n",
        "def generate(state: State):\n",
        "    docs_content = \"\\n\\n\".join(doc.page_content for doc in state[\"context\"])\n",
        "    messages = prompt.invoke({\"question\": state[\"question\"], \"context\": docs_content})\n",
        "    response = llm.invoke(messages)\n",
        "    return {\"answer\": response.content}\n"
      ],
      "metadata": {
        "id": "0ArNG2lr8Lnv"
      },
      "execution_count": 38,
      "outputs": []
    },
    {
      "cell_type": "code",
      "source": [
        "from langgraph.graph import START, StateGraph\n",
        "\n",
        "graph_builder = StateGraph(State).add_sequence([retrieve, generate])\n",
        "graph_builder.add_edge(START, \"retrieve\")\n",
        "graph = graph_builder.compile()\n",
        "\n",
        "question = \"¿Cuáles son las especificaciones técnicas del BMW M235i?\"\n",
        "response = graph.invoke({\"question\": question})\n",
        "print(response[\"answer\"])\n"
      ],
      "metadata": {
        "colab": {
          "base_uri": "https://localhost:8080/"
        },
        "id": "D6c2gZEJ8Nh3",
        "outputId": "d88ec8bf-06b0-4a55-af94-8f35a31ede18"
      },
      "execution_count": 39,
      "outputs": [
        {
          "output_type": "stream",
          "name": "stdout",
          "text": [
            "El BMW M235i cuenta con un motor N55 sobrealimentado de 326 caballos de potencia y puede acelerar de 0 a 100 km/h en 5 segundos con cambio manual, y en 4,8 segundos con la transmisión ZF de 8 velocidades. Es un coupé de tracción trasera, diseñado para ofrecer una experiencia de conducción deportiva. Aunque no es un M puro, tiene un ADN de M y destaca en su rendimiento.\n"
          ]
        }
      ]
    },
    {
      "cell_type": "code",
      "source": [
        "from langgraph.graph import START, StateGraph\n",
        "\n",
        "graph_builder = StateGraph(State).add_sequence([retrieve, generate])\n",
        "graph_builder.add_edge(START, \"retrieve\")\n",
        "graph = graph_builder.compile()\n",
        "\n",
        "question = \"¿Cuanta potencia tiene el BMW M235i?\"\n",
        "response = graph.invoke({\"question\": question})\n",
        "print(response[\"answer\"])\n"
      ],
      "metadata": {
        "colab": {
          "base_uri": "https://localhost:8080/"
        },
        "id": "Xv5I4jiY95vm",
        "outputId": "2dd1a25c-47ac-4fd9-b329-0a2e4b4952da"
      },
      "execution_count": 40,
      "outputs": [
        {
          "output_type": "stream",
          "name": "stdout",
          "text": [
            "El BMW M235i cuenta con un potente motor N55 que desarrolla 326 caballos de potencia. Esto le permite acelerar de 0 a 100 km/h en 5 segundos con cambio manual y en 4,8 segundos con cambio automático. Aunque no es un M puro, ofrece sensaciones deportivas destacadas.\n"
          ]
        }
      ]
    },
    {
      "cell_type": "code",
      "source": [
        "from langgraph.graph import START, StateGraph\n",
        "\n",
        "graph_builder = StateGraph(State).add_sequence([retrieve, generate])\n",
        "graph_builder.add_edge(START, \"retrieve\")\n",
        "graph = graph_builder.compile()\n",
        "\n",
        "question = \"¿Que marca es el m235i?\"\n",
        "response = graph.invoke({\"question\": question})\n",
        "print(response[\"answer\"])\n"
      ],
      "metadata": {
        "colab": {
          "base_uri": "https://localhost:8080/"
        },
        "id": "igWkL8bm-BE2",
        "outputId": "3cf2857a-f081-427c-8a0e-3be6a3f9869b"
      },
      "execution_count": 41,
      "outputs": [
        {
          "output_type": "stream",
          "name": "stdout",
          "text": [
            "El M235i es un modelo de la marca BMW, específicamente de la serie 2 Coupé. Este vehículo se distingue por su diseño con el paquete M y un motor potente de 326 caballos. Aunque no es un modelo M puro, se acerca a sus características deportivas.\n"
          ]
        }
      ]
    }
  ]
}